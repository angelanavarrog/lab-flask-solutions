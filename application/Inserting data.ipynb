{
 "cells": [
  {
   "cell_type": "code",
   "execution_count": 1,
   "metadata": {},
   "outputs": [],
   "source": [
    "import requests\n",
    "from bson import json_util\n",
    "import pymongo\n",
    "from pymongo import MongoClient\n",
    "from helpers.mongoConnection import *"
   ]
  },
  {
   "cell_type": "markdown",
   "metadata": {},
   "source": [
    "### 1. Inserting values"
   ]
  },
  {
   "cell_type": "code",
   "execution_count": 2,
   "metadata": {},
   "outputs": [
    {
     "name": "stdout",
     "output_type": "stream",
     "text": [
      "[ObjectId('603402541ad5c0890d3a0a46'), ObjectId('603402541ad5c0890d3a0a47'), ObjectId('603402541ad5c0890d3a0a48'), ObjectId('603402541ad5c0890d3a0a49'), ObjectId('603402541ad5c0890d3a0a4a'), ObjectId('603402541ad5c0890d3a0a4b'), ObjectId('603402541ad5c0890d3a0a4c'), ObjectId('603402541ad5c0890d3a0a4d'), ObjectId('603402541ad5c0890d3a0a4e'), ObjectId('603402541ad5c0890d3a0a4f'), ObjectId('603402541ad5c0890d3a0a50'), ObjectId('603402541ad5c0890d3a0a51'), ObjectId('603402541ad5c0890d3a0a52'), ObjectId('603402541ad5c0890d3a0a53'), ObjectId('603402541ad5c0890d3a0a54'), ObjectId('603402541ad5c0890d3a0a55'), ObjectId('603402541ad5c0890d3a0a56'), ObjectId('603402541ad5c0890d3a0a57'), ObjectId('603402541ad5c0890d3a0a58'), ObjectId('603402541ad5c0890d3a0a59'), ObjectId('603402541ad5c0890d3a0a5a'), ObjectId('603402541ad5c0890d3a0a5b'), ObjectId('603402541ad5c0890d3a0a5c'), ObjectId('603402541ad5c0890d3a0a5d'), ObjectId('603402541ad5c0890d3a0a5e'), ObjectId('603402541ad5c0890d3a0a5f'), ObjectId('603402541ad5c0890d3a0a60'), ObjectId('603402541ad5c0890d3a0a61'), ObjectId('603402541ad5c0890d3a0a62'), ObjectId('603402541ad5c0890d3a0a63'), ObjectId('603402541ad5c0890d3a0a64'), ObjectId('603402541ad5c0890d3a0a65'), ObjectId('603402541ad5c0890d3a0a66'), ObjectId('603402541ad5c0890d3a0a67'), ObjectId('603402541ad5c0890d3a0a68'), ObjectId('603402541ad5c0890d3a0a69'), ObjectId('603402541ad5c0890d3a0a6a'), ObjectId('603402541ad5c0890d3a0a6b'), ObjectId('603402541ad5c0890d3a0a6c'), ObjectId('603402541ad5c0890d3a0a6d'), ObjectId('603402541ad5c0890d3a0a6e'), ObjectId('603402541ad5c0890d3a0a6f'), ObjectId('603402541ad5c0890d3a0a70'), ObjectId('603402541ad5c0890d3a0a71'), ObjectId('603402541ad5c0890d3a0a72'), ObjectId('603402541ad5c0890d3a0a73'), ObjectId('603402541ad5c0890d3a0a74'), ObjectId('603402541ad5c0890d3a0a75'), ObjectId('603402541ad5c0890d3a0a76'), ObjectId('603402541ad5c0890d3a0a77')]\n"
     ]
    }
   ],
   "source": [
    "myclient = pymongo.MongoClient( \"mongodb://localhost:27017/\")\n",
    "mydb = myclient[\"Whatsapp\"]\n",
    "mycol = mydb[\"Users.users\"]\n",
    "\n",
    "mylist = [\n",
    "    {\"user\": \"Maria M\", \"group\": \"Jerez Covid\", \"message\":\"I have not been drinking alcohol since Sunday\"},\n",
    "    {\"user\": \"Angela\", \"group\": \"Jerez Covid\", \"message\":\"haha mery we are on wednesday\"},\n",
    "    {\"user\": \"Maria M\", \"group\": \"Jerez Covid\", \"message\":\"well but it's already three days\"},\n",
    "    {\"user\": \"Tere\", \"group\": \"Jerez Covid\", \"message\":\"Do you know who's getting married?\"},\n",
    "    {\"user\": \"Clau\", \"group\": \"Jerez Covid\", \"message\":\"Pepito and Ana\"},\n",
    "    {\"user\": \"Tere\", \"group\": \"Jerez Covid\", \"message\":\"how do you know it?\"},\n",
    "    {\"user\": \"Maria M\", \"group\": \"Jerez Covid\", \"message\":\"I can't believe it!\"},\n",
    "    {\"user\": \"Angela\", \"group\": \"Jerez Covid\", \"message\":\"But they haven't been together long, have they?\"},\n",
    "    {\"user\": \"Maria M\", \"group\": \"Jerez Covid\", \"message\":\"two years I think\"},\n",
    "    {\"user\": \"Tere\", \"group\": \"Jerez Covid\", \"message\":\"Everyone is asked unless me\"},\n",
    "    {\"user\": \"Celia\", \"group\": \"Jerez Covid\", \"message\":\"hahahahaha\"},\n",
    "    {\"user\": \"Tere\", \"group\": \"Jerez Covid\", \"message\":\"If in 2 months I don't ask for it I'll break with him\"},\n",
    "    {\"user\": \"Tere\", \"group\": \"Jerez Covid\", \"message\":\"this time for real\"},\n",
    "    {\"user\": \"Maria M\", \"group\": \"Jerez Covid\", \"message\":\"Tere you have been saying the same thing for two years now\"},\n",
    "    {\"user\": \"Celia\", \"group\": \"Jerez Covid\", \"message\":\"It is that of course as it continues like this Javier marries at 50\"},\n",
    "    {\"user\": \"Clau\", \"group\": \"Jerez Covid\", \"message\":\"I'm sure you'll see that there's not much left to do.\"},\n",
    "    {\"user\": \"Tito\", \"group\": \"Family\", \"message\":\"image1\"},\n",
    "    {\"user\": \"Tito\", \"group\": \"Family\", \"message\":\"image2\"},\n",
    "    {\"user\": \"Angela\", \"group\": \"Family\", \"message\":\"How funny!!!\"},\n",
    "    {\"user\": \"Mama\", \"group\": \"Family\", \"message\":\"How beautiful Tatan\"},\n",
    "    {\"user\": \"Mama\", \"group\": \"Family\", \"message\":\"Ops, it won't hit her in the face, will her?\"},\n",
    "    {\"user\": \"Tito\", \"group\": \"Family\", \"message\":\"haha of course not mama, I am keeping an eye on him\"},\n",
    "    {\"user\": \"Bego\", \"group\": \"Family\", \"message\":\"thank you father in law\"},\n",
    "    {\"user\": \"Fati\", \"group\": \"Family\", \"message\":\"heart icon\"},\n",
    "    {\"user\": \"Mama\", \"group\": \"Family\", \"message\":\"Good morning!! God bless you\"},\n",
    "    {\"user\": \"Papa\", \"group\": \"Family\", \"message\":\"Good morning\"},\n",
    "    {\"user\": \"Tito\", \"group\": \"Family\", \"message\":\"This weekend Bego and I are staying with the kids and resting.\"},\n",
    "    {\"user\": \"Angela\", \"group\": \"Family\", \"message\":\"Look how beautiful Madrid is!\"},\n",
    "    {\"user\": \"Mama\", \"group\": \"Family\", \"message\":\"I love youuuuu\"},\n",
    "    {\"user\": \"Bego\", \"group\": \"Family\", \"message\":\"The home renovation is already finished! :)\"},\n",
    "    {\"user\": \"Papa\", \"group\": \"Family\", \"message\":\"I can't wait to go to Madrid\"},\n",
    "    {\"user\": \"Fati\", \"group\": \"Family\", \"message\":\"heart icon\"},\n",
    "    {\"user\": \"Miriam\", \"group\": \"Turbias\", \"message\":\"Some of you know it, others don't...I'm getting married! !!!!\"},\n",
    "    {\"user\": \"Maria P\", \"group\": \"Turbias\", \"message\":\"Wow!!! Congratulations!\"},\n",
    "    {\"user\": \"Angela\", \"group\": \"Turbias\", \"message\":\"What a joy!!!!!Congratssss\"},\n",
    "    {\"user\": \"Neva\", \"group\": \"Turbias\", \"message\":\"Anybody in Jerez take something?\"},\n",
    "    {\"user\": \"Nata\", \"group\": \"Turbias\", \"message\":\"Meee! At 7pm in Valde?\"},\n",
    "    {\"user\": \"Ale\", \"group\": \"Turbias\", \"message\":\"I can't, I'm going to the cinema\"},\n",
    "    {\"user\": \"Ninfa\", \"group\": \"Turbias\", \"message\":\"summary? Something important\"},\n",
    "    {\"user\": \"Nata\", \"group\": \"Turbias\", \"message\":\"Have you seen the new Renfe's feature?\"},\n",
    "    {\"user\": \"Blanca M\", \"group\": \"Turbias\", \"message\":\"I go for a ride with the horse and I go\"},\n",
    "    {\"user\": \"Pilar\", \"group\": \"Turbias\", \"message\":\"at 7 o'clock in Valde Blanca goes for a ride with the horse and comes later and Miriam is getting married.\"},\n",
    "    {\"user\": \"Angela\", \"group\": \"Turbias\", \"message\":\"The tickets for the fair are ready\"},\n",
    "    {\"user\": \"Nata\", \"group\": \"Turbias\", \"message\":\"I already have them!  Otherwise, the Madrileños will arrive and we will be left without\"},\n",
    "    {\"user\": \"Pilar\", \"group\": \"Turbias\", \"message\":\"girls what a burden 5 months to go\"},\n",
    "    {\"user\": \"Nata\", \"group\": \"Turbias\", \"message\":\"Well pillar you do not take them out and you already tell us\"},\n",
    "    {\"user\": \"Neva\", \"group\": \"Turbias\", \"message\":\"Doctor or pharmacists, What do you recommend to me for these spots?\"},\n",
    "    {\"user\": \"Neva\", \"group\": \"Turbias\", \"message\":\"image\"},\n",
    "    {\"user\": \"Ninfa\", \"group\": \"Turbias\", \"message\":\"Neva write to me privately\"},\n",
    "    {\"user\": \"Moni\", \"group\": \"Turbias\", \"message\":\"go to the pharmacy and ask for this no prescription is needed\"},\n",
    "]\n",
    "\n",
    "x = mycol.insert_many(mylist)\n",
    "\n",
    "#print lista de los valores id de los documentos insertados:\n",
    "print(x.inserted_ids)"
   ]
  },
  {
   "cell_type": "code",
   "execution_count": null,
   "metadata": {},
   "outputs": [],
   "source": []
  },
  {
   "cell_type": "code",
   "execution_count": null,
   "metadata": {},
   "outputs": [],
   "source": []
  }
 ],
 "metadata": {
  "kernelspec": {
   "display_name": "Python 3",
   "language": "python",
   "name": "python3"
  },
  "language_info": {
   "codemirror_mode": {
    "name": "ipython",
    "version": 3
   },
   "file_extension": ".py",
   "mimetype": "text/x-python",
   "name": "python",
   "nbconvert_exporter": "python",
   "pygments_lexer": "ipython3",
   "version": "3.9.1"
  }
 },
 "nbformat": 4,
 "nbformat_minor": 4
}
